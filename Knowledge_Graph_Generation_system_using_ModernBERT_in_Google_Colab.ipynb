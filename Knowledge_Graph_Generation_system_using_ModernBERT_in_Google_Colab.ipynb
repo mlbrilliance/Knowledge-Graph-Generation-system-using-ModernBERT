{
  "nbformat": 4,
  "nbformat_minor": 0,
  "metadata": {
    "colab": {
      "provenance": [],
      "authorship_tag": "ABX9TyNpnnqxg01wtFXOXGXrGymJ",
      "include_colab_link": true
    },
    "kernelspec": {
      "name": "python3",
      "display_name": "Python 3"
    },
    "language_info": {
      "name": "python"
    }
  },
  "cells": [
    {
      "cell_type": "markdown",
      "metadata": {
        "id": "view-in-github",
        "colab_type": "text"
      },
      "source": [
        "<a href=\"https://colab.research.google.com/github/mlbrilliance/Knowledge-Graph-Generation-system-using-ModernBERT-in-Google-Colab/blob/main/Knowledge_Graph_Generation_system_using_ModernBERT_in_Google_Colab.ipynb\" target=\"_parent\"><img src=\"https://colab.research.google.com/assets/colab-badge.svg\" alt=\"Open In Colab\"/></a>"
      ]
    },
    {
      "cell_type": "markdown",
      "source": [
        "**Install UV**\n",
        "\n",
        "*The uv tool is used to create and manage isolated Python environments, similar to virtualenv or conda, but with a simpler interface and some additional features like dependency tracking.*"
      ],
      "metadata": {
        "id": "3jobMqUHjtOn"
      }
    },
    {
      "cell_type": "code",
      "source": [
        "!pip install uv"
      ],
      "metadata": {
        "colab": {
          "base_uri": "https://localhost:8080/"
        },
        "id": "hs1_hYFHjwm9",
        "outputId": "71435cc7-0d50-4b47-f6cc-134df9a57787"
      },
      "execution_count": 12,
      "outputs": [
        {
          "output_type": "stream",
          "name": "stdout",
          "text": [
            "Requirement already satisfied: uv in /usr/local/lib/python3.10/dist-packages (0.5.11)\n"
          ]
        }
      ]
    },
    {
      "cell_type": "markdown",
      "source": [
        "Create Virtual environment"
      ],
      "metadata": {
        "id": "c9OGZhZ3kDCf"
      }
    },
    {
      "cell_type": "code",
      "source": [
        "# Create a virtual environment\n",
        "!uv virtualenv -p 3.9\n",
        "\n",
        "# Activate the virtual environment\n",
        "!source .venv/bin/activate"
      ],
      "metadata": {
        "colab": {
          "base_uri": "https://localhost:8080/"
        },
        "id": "WetA4GtkkGTi",
        "outputId": "2277bf7d-7212-4d1d-d94a-1153d1c5c8fa"
      },
      "execution_count": 13,
      "outputs": [
        {
          "output_type": "stream",
          "name": "stdout",
          "text": [
            "Using CPython \u001b[36m3.9.21\u001b[39m\n",
            "Creating virtual environment at: \u001b[36m.venv\u001b[39m\n",
            "Activate with: \u001b[32msource .venv/bin/activate\u001b[39m\n"
          ]
        }
      ]
    },
    {
      "cell_type": "code",
      "source": [
        "# Install essential build tools inside the virtual environment\n",
        "!uv pip install --upgrade setuptools wheel pip"
      ],
      "metadata": {
        "colab": {
          "base_uri": "https://localhost:8080/"
        },
        "collapsed": true,
        "id": "Zw3t9nMFmwSw",
        "outputId": "4fbfe638-8e9a-4515-f130-9f15eb93e6c0"
      },
      "execution_count": 14,
      "outputs": [
        {
          "output_type": "stream",
          "name": "stdout",
          "text": [
            "\u001b[37m⠋\u001b[0m \u001b[2mResolving dependencies...                                                     \u001b[0m\r\u001b[2K\u001b[37m⠋\u001b[0m \u001b[2mResolving dependencies...                                                     \u001b[0m\r\u001b[2K\u001b[37m⠙\u001b[0m \u001b[2mResolving dependencies...                                                     \u001b[0m\r\u001b[2K\u001b[37m⠙\u001b[0m \u001b[2msetuptools==75.6.0                                                            \u001b[0m\r\u001b[2K\u001b[37m⠙\u001b[0m \u001b[2mwheel==0.45.1                                                                 \u001b[0m\r\u001b[2K\u001b[37m⠙\u001b[0m \u001b[2mpip==24.3.1                                                                   \u001b[0m\r\u001b[2K\u001b[37m⠙\u001b[0m \u001b[2m                                                                              \u001b[0m\r\u001b[2K\u001b[2mResolved \u001b[1m3 packages\u001b[0m \u001b[2min 93ms\u001b[0m\u001b[0m\n",
            "\u001b[2K\u001b[2mPrepared \u001b[1m3 packages\u001b[0m \u001b[2min 2ms\u001b[0m\u001b[0m\n",
            "\u001b[2K\u001b[2mInstalled \u001b[1m3 packages\u001b[0m \u001b[2min 148ms\u001b[0m\u001b[0m\n",
            " \u001b[32m+\u001b[39m \u001b[1mpip\u001b[0m\u001b[2m==24.3.1\u001b[0m\n",
            " \u001b[32m+\u001b[39m \u001b[1msetuptools\u001b[0m\u001b[2m==75.6.0\u001b[0m\n",
            " \u001b[32m+\u001b[39m \u001b[1mwheel\u001b[0m\u001b[2m==0.45.1\u001b[0m\n"
          ]
        }
      ]
    },
    {
      "cell_type": "code",
      "source": [
        "%%writefile requirements.txt\n",
        "torch>=1.10.0\n",
        "setuptools\n",
        "git+https://github.com/huggingface/transformers.git\n",
        "spacy\n",
        "networkx\n",
        "matplotlib\n",
        "flash-attn\n",
        "beautifulsoup4\n",
        "requests"
      ],
      "metadata": {
        "colab": {
          "base_uri": "https://localhost:8080/"
        },
        "id": "bSToicjZmBqF",
        "outputId": "8a7c66f4-4376-4a1e-99a8-f5d2caa952e9"
      },
      "execution_count": 17,
      "outputs": [
        {
          "output_type": "stream",
          "name": "stdout",
          "text": [
            "Overwriting requirements.txt\n"
          ]
        }
      ]
    },
    {
      "cell_type": "code",
      "source": [
        "# Install dependencies one by one to handle build issues\n",
        "!uv pip install torch -q\n",
        "!uv pip install --no-build-isolation -r requirements.txt -q\n"
      ],
      "metadata": {
        "id": "0ayIoUktmJbS"
      },
      "execution_count": 18,
      "outputs": []
    },
    {
      "cell_type": "code",
      "source": [
        "import spacy\n",
        "\n",
        "# Load SpaCy for sentence segmentation\n",
        "nlp = spacy.load(\"en_core_web_sm\")\n",
        "\n",
        "def preprocess_text_with_context(text, window_size=3):\n",
        "    \"\"\"\n",
        "    Combine sentences into groups of a specified size to provide more context.\n",
        "    \"\"\"\n",
        "    doc = nlp(text)  # Process the text with SpaCy\n",
        "    sentences = [sent.text.strip() for sent in doc.sents if sent.text.strip()]  # Clean sentences\n",
        "    return [\" \".join(sentences[i:i + window_size]) for i in range(0, len(sentences), window_size)]\n"
      ],
      "metadata": {
        "id": "0n0lNyyjul5c"
      },
      "execution_count": 169,
      "outputs": []
    },
    {
      "cell_type": "code",
      "source": [
        "from transformers import pipeline\n",
        "\n",
        "# Initialize the fill-mask pipeline\n",
        "fill_mask = pipeline(\"fill-mask\", model=\"answerdotai/ModernBERT-base\", tokenizer=\"answerdotai/ModernBERT-base\")\n"
      ],
      "metadata": {
        "colab": {
          "base_uri": "https://localhost:8080/"
        },
        "collapsed": true,
        "id": "mN12oGeWnKhT",
        "outputId": "b0b525c9-ce98-4fb2-e86e-5d3862996ecb"
      },
      "execution_count": 170,
      "outputs": [
        {
          "output_type": "stream",
          "name": "stderr",
          "text": [
            "Device set to use cpu\n"
          ]
        }
      ]
    },
    {
      "cell_type": "code",
      "source": [
        "def modernbert_entity_extraction(sentences, mask=\"[MASK]\", confidence_threshold=0.3):\n",
        "    \"\"\"\n",
        "    Extract entities using ModernBERT's fill-mask pipeline.\n",
        "    \"\"\"\n",
        "    extracted_entities = []\n",
        "\n",
        "    for sentence in sentences:\n",
        "        # Mask one word in the sentence\n",
        "        if \"is\" in sentence:\n",
        "            masked_sentence = sentence.replace(\"is\", f\"is {mask}\")\n",
        "        else:\n",
        "            continue  # Skip sentences without \"is\" for simplicity\n",
        "\n",
        "        predictions = fill_mask(masked_sentence)\n",
        "        filtered_predictions = [\n",
        "            pred.get(\"token_str\", \"\").strip()\n",
        "            for pred in predictions\n",
        "            if pred.get(\"score\", 0) >= confidence_threshold\n",
        "        ]\n",
        "        if filtered_predictions:\n",
        "            extracted_entities.append((sentence, filtered_predictions[:3]))\n",
        "\n",
        "    return extracted_entities\n"
      ],
      "metadata": {
        "id": "VJZREN8-po0Q"
      },
      "execution_count": 171,
      "outputs": []
    },
    {
      "cell_type": "code",
      "source": [
        "def modernbert_entity_extraction(sentences, mask=\"[MASK]\", confidence_threshold=0.3):\n",
        "    \"\"\"\n",
        "    Extract entities using ModernBERT's fill-mask pipeline.\n",
        "    \"\"\"\n",
        "    extracted_entities = []\n",
        "\n",
        "    for sentence in sentences:\n",
        "        # Mask one word in the sentence\n",
        "        if \"is\" in sentence:\n",
        "            masked_sentence = sentence.replace(\"is\", f\"is {mask}\")\n",
        "        else:\n",
        "            continue  # Skip sentences without \"is\" for simplicity\n",
        "\n",
        "        predictions = fill_mask(masked_sentence)\n",
        "        # Debug: Check the structure of predictions\n",
        "        print(f\"Debug: Predictions for '{masked_sentence}': {predictions}\")\n",
        "\n",
        "        # Handle nested lists or unexpected formats\n",
        "        if isinstance(predictions, list) and isinstance(predictions[0], dict):\n",
        "            # Predictions are in expected format\n",
        "            filtered_predictions = [\n",
        "                pred.get(\"token_str\", \"\").strip()\n",
        "                for pred in predictions\n",
        "                if pred.get(\"score\", 0) >= confidence_threshold\n",
        "            ]\n",
        "        elif isinstance(predictions, list) and isinstance(predictions[0], list):\n",
        "            # Handle nested lists\n",
        "            filtered_predictions = [\n",
        "                pred.get(\"token_str\", \"\").strip()\n",
        "                for pred_list in predictions\n",
        "                for pred in pred_list\n",
        "                if pred.get(\"score\", 0) >= confidence_threshold\n",
        "            ]\n",
        "        else:\n",
        "            # Unexpected format; skip processing\n",
        "            print(f\"Unexpected predictions format for '{masked_sentence}': {predictions}\")\n",
        "            filtered_predictions = []\n",
        "\n",
        "        if filtered_predictions:\n",
        "            extracted_entities.append((sentence, filtered_predictions[:3]))\n",
        "\n",
        "    return extracted_entities\n"
      ],
      "metadata": {
        "id": "TFKN8O0tnWiY"
      },
      "execution_count": 176,
      "outputs": []
    },
    {
      "cell_type": "code",
      "source": [
        "import networkx as nx\n",
        "import matplotlib.pyplot as plt\n",
        "\n",
        "def create_and_visualize_graph(entities, relationships):\n",
        "    \"\"\"\n",
        "    Create a graph and visualize meaningful relationships.\n",
        "    \"\"\"\n",
        "    G = nx.DiGraph()\n",
        "\n",
        "    # Add entities\n",
        "    for _, entities_list in entities:\n",
        "        for entity in entities_list:\n",
        "            G.add_node(entity)\n",
        "\n",
        "    # Add relationships\n",
        "    for ent1, relation, ent2 in relationships:\n",
        "        G.add_edge(ent1, ent2, label=relation)\n",
        "\n",
        "    # Visualize\n",
        "    pos = nx.spring_layout(G)\n",
        "    edge_labels = nx.get_edge_attributes(G, 'label')\n",
        "    nx.draw(G, pos, with_labels=True, node_color=\"lightblue\", node_size=3000, font_size=10)\n",
        "    nx.draw_networkx_edge_labels(G, pos, edge_labels=edge_labels, font_color=\"red\")\n",
        "\n",
        "    plt.title(\"Knowledge Graph Visualization\")\n",
        "    plt.show()\n"
      ],
      "metadata": {
        "id": "e6hZMWGCneQy"
      },
      "execution_count": 177,
      "outputs": []
    },
    {
      "cell_type": "code",
      "source": [
        "input_text = \"\"\"\n",
        "Artificial Intelligence (AI) has become a transformative force in the 21st century, reshaping industries, driving innovation, and improving daily life. In transportation, autonomous vehicles like Tesla's Autopilot and Waymo's self-driving cars leverage AI to navigate roads, avoid obstacles, and improve passenger safety. These systems integrate machine learning with sensor data from LiDAR, cameras, and GPS for precision driving.\n",
        "\n",
        "In healthcare, AI tools like IBM Watson Health and DeepMind's AlphaFold assist doctors by predicting protein structures and diagnosing diseases such as cancer and heart conditions. AI also powers robotic surgery systems like Da Vinci, which enable surgeons to perform minimally invasive procedures with enhanced precision.\n",
        "\n",
        "In education, platforms like Duolingo and Coursera use AI algorithms to personalize learning experiences, adapting to students' skill levels and preferences. Virtual tutors powered by AI, such as Squirrel AI in China, offer real-time feedback to help students master complex topics.\n",
        "\n",
        "AI's role in finance is equally transformative, where algorithms detect fraudulent transactions in milliseconds, optimize trading strategies, and analyze market trends. Robo-advisors like Betterment and Wealthfront provide automated financial advice, helping users invest more effectively.\n",
        "\n",
        "In the entertainment industry, AI drives content recommendation systems for platforms like Netflix, YouTube, and Spotify, ensuring users discover movies, videos, and music tailored to their tastes. Tools like OpenAI's DALL·E and ChatGPT generate creative content, including realistic images, art, and human-like conversations.\n",
        "\n",
        "Manufacturing has also been revolutionized by AI, with smart robots on assembly lines increasing productivity and reducing errors. Companies like Siemens and GE employ predictive maintenance systems powered by AI to monitor equipment health and prevent breakdowns.\n",
        "\n",
        "In energy, AI optimizes power grids by forecasting demand and managing energy distribution efficiently. Wind and solar farms use AI to predict weather patterns and maximize renewable energy output.\n",
        "\n",
        "AI's impact on logistics is evident in companies like Amazon and FedEx, where algorithms optimize delivery routes, track shipments in real-time, and streamline warehouse operations. Drone delivery systems powered by AI, such as those developed by Zipline, are becoming increasingly common in remote areas.\n",
        "\n",
        "Lastly, in gaming, AI has demonstrated superhuman capabilities with systems like DeepMind's AlphaGo and OpenAI Five, which outperform human players in games like Go, Dota 2, and Chess. AI also powers game design, creating lifelike characters, immersive worlds, and dynamic storylines.\n",
        "\"\"\"\n"
      ],
      "metadata": {
        "id": "gwtZn5U-noCJ"
      },
      "execution_count": 178,
      "outputs": []
    },
    {
      "cell_type": "code",
      "source": [
        "# Preprocess text\n",
        "sentences = preprocess_text_with_context(input_text, window_size=3)\n",
        "\n",
        "# Extract entities\n",
        "entities = modernbert_entity_extraction(sentences)\n",
        "print(\"Extracted Entities (Sample):\", entities[:5])\n",
        "\n",
        "# Extract relationships\n",
        "relationships = modernbert_relationship_extraction(entities, confidence_threshold=0.3)\n",
        "print(\"Extracted Relationships (Sample):\", relationships[:5])\n",
        "\n",
        "# Create and visualize graph\n",
        "create_and_visualize_graph(entities, relationships)\n"
      ],
      "metadata": {
        "colab": {
          "base_uri": "https://localhost:8080/",
          "height": 698
        },
        "id": "R-xf2DU3nvM6",
        "outputId": "bcf45cb8-ad14-40db-87ab-2a733ee242ed"
      },
      "execution_count": 180,
      "outputs": [
        {
          "output_type": "stream",
          "name": "stdout",
          "text": [
            "Debug: Predictions for 'Artificial Intelligence (AI) has become a transformative force in the 21st century, reshaping industries, driving innovation, and improving daily life. In transportation, autonomous vehicles like Tesla's Autopilot and Waymo's self-driving cars leverage AI to navigate roads, avoid obstacles, and improve passenger safety. These systems integrate machine learning with sensor data from LiDAR, cameras, and GPS for precis [MASK]ion driving.': [{'score': 0.326203852891922, 'token': 296, 'token_str': 'st', 'sequence': \"Artificial Intelligence (AI) has become a transformative force in the 21st century, reshaping industries, driving innovation, and improving daily life. In transportation, autonomous vehicles like Tesla's Autopilot and Waymo's self-driving cars leverage AI to navigate roads, avoid obstacles, and improve passenger safety. These systems integrate machine learning with sensor data from LiDAR, cameras, and GPS for precisstion driving.\"}, {'score': 0.12618568539619446, 'token': 382, 'token_str': 'ist', 'sequence': \"Artificial Intelligence (AI) has become a transformative force in the 21st century, reshaping industries, driving innovation, and improving daily life. In transportation, autonomous vehicles like Tesla's Autopilot and Waymo's self-driving cars leverage AI to navigate roads, avoid obstacles, and improve passenger safety. These systems integrate machine learning with sensor data from LiDAR, cameras, and GPS for precisistion driving.\"}, {'score': 0.04470657557249069, 'token': 292, 'token_str': 'et', 'sequence': \"Artificial Intelligence (AI) has become a transformative force in the 21st century, reshaping industries, driving innovation, and improving daily life. In transportation, autonomous vehicles like Tesla's Autopilot and Waymo's self-driving cars leverage AI to navigate roads, avoid obstacles, and improve passenger safety. These systems integrate machine learning with sensor data from LiDAR, cameras, and GPS for precisetion driving.\"}, {'score': 0.024436980485916138, 'token': 86, 'token_str': 'u', 'sequence': \"Artificial Intelligence (AI) has become a transformative force in the 21st century, reshaping industries, driving innovation, and improving daily life. In transportation, autonomous vehicles like Tesla's Autopilot and Waymo's self-driving cars leverage AI to navigate roads, avoid obstacles, and improve passenger safety. These systems integrate machine learning with sensor data from LiDAR, cameras, and GPS for precisuion driving.\"}, {'score': 0.023677883669734, 'token': 859, 'token_str': 'ss', 'sequence': \"Artificial Intelligence (AI) has become a transformative force in the 21st century, reshaping industries, driving innovation, and improving daily life. In transportation, autonomous vehicles like Tesla's Autopilot and Waymo's self-driving cars leverage AI to navigate roads, avoid obstacles, and improve passenger safety. These systems integrate machine learning with sensor data from LiDAR, cameras, and GPS for precisssion driving.\"}]\n",
            "Debug: Predictions for 'In healthcare, AI tools like IBM Watson Health and DeepMind's AlphaFold assis [MASK]t doctors by predicting protein structures and diagnosing dis [MASK]eases such as cancer and heart conditions. AI also powers robotic surgery systems like Da Vinci, which enable surgeons to perform minimally invasive procedures with enhanced precis [MASK]ion. In education, platforms like Duolingo and Coursera use AI algorithms to personalize learning experiences, adapting to students' skill levels and preferences.': [[{'score': 0.246619313955307, 'token': 14, 'token_str': '-', 'sequence': \"[CLS]In healthcare, AI tools like IBM Watson Health and DeepMind's AlphaFold assis-t doctors by predicting protein structures and diagnosing dis[MASK]eases such as cancer and heart conditions. AI also powers robotic surgery systems like Da Vinci, which enable surgeons to perform minimally invasive procedures with enhanced precis[MASK]ion. In education, platforms like Duolingo and Coursera use AI algorithms to personalize learning experiences, adapting to students' skill levels and preferences.[SEP]\"}, {'score': 0.08738649636507034, 'token': 6319, 'token_str': '\\xad', 'sequence': \"[CLS]In healthcare, AI tools like IBM Watson Health and DeepMind's AlphaFold assis\\xadt doctors by predicting protein structures and diagnosing dis[MASK]eases such as cancer and heart conditions. AI also powers robotic surgery systems like Da Vinci, which enable surgeons to perform minimally invasive procedures with enhanced precis[MASK]ion. In education, platforms like Duolingo and Coursera use AI algorithms to personalize learning experiences, adapting to students' skill levels and preferences.[SEP]\"}, {'score': 0.04995746538043022, 'token': 780, 'token_str': 'ual', 'sequence': \"[CLS]In healthcare, AI tools like IBM Watson Health and DeepMind's AlphaFold assisualt doctors by predicting protein structures and diagnosing dis[MASK]eases such as cancer and heart conditions. AI also powers robotic surgery systems like Da Vinci, which enable surgeons to perform minimally invasive procedures with enhanced precis[MASK]ion. In education, platforms like Duolingo and Coursera use AI algorithms to personalize learning experiences, adapting to students' skill levels and preferences.[SEP]\"}, {'score': 0.047485485672950745, 'token': 864, 'token_str': 'hen', 'sequence': \"[CLS]In healthcare, AI tools like IBM Watson Health and DeepMind's AlphaFold assishent doctors by predicting protein structures and diagnosing dis[MASK]eases such as cancer and heart conditions. AI also powers robotic surgery systems like Da Vinci, which enable surgeons to perform minimally invasive procedures with enhanced precis[MASK]ion. In education, platforms like Duolingo and Coursera use AI algorithms to personalize learning experiences, adapting to students' skill levels and preferences.[SEP]\"}, {'score': 0.03745489940047264, 'token': 13, 'token_str': ',', 'sequence': \"[CLS]In healthcare, AI tools like IBM Watson Health and DeepMind's AlphaFold assis,t doctors by predicting protein structures and diagnosing dis[MASK]eases such as cancer and heart conditions. AI also powers robotic surgery systems like Da Vinci, which enable surgeons to perform minimally invasive procedures with enhanced precis[MASK]ion. In education, platforms like Duolingo and Coursera use AI algorithms to personalize learning experiences, adapting to students' skill levels and preferences.[SEP]\"}], [{'score': 0.6140539050102234, 'token': 14, 'token_str': '-', 'sequence': \"[CLS]In healthcare, AI tools like IBM Watson Health and DeepMind's AlphaFold assis[MASK]t doctors by predicting protein structures and diagnosing dis-eases such as cancer and heart conditions. AI also powers robotic surgery systems like Da Vinci, which enable surgeons to perform minimally invasive procedures with enhanced precis[MASK]ion. In education, platforms like Duolingo and Coursera use AI algorithms to personalize learning experiences, adapting to students' skill levels and preferences.[SEP]\"}, {'score': 0.2503601014614105, 'token': 6319, 'token_str': '\\xad', 'sequence': \"[CLS]In healthcare, AI tools like IBM Watson Health and DeepMind's AlphaFold assis[MASK]t doctors by predicting protein structures and diagnosing dis\\xadeases such as cancer and heart conditions. AI also powers robotic surgery systems like Da Vinci, which enable surgeons to perform minimally invasive procedures with enhanced precis[MASK]ion. In education, platforms like Duolingo and Coursera use AI algorithms to personalize learning experiences, adapting to students' skill levels and preferences.[SEP]\"}, {'score': 0.024110015481710434, 'token': 82, 'token_str': 'q', 'sequence': \"[CLS]In healthcare, AI tools like IBM Watson Health and DeepMind's AlphaFold assis[MASK]t doctors by predicting protein structures and diagnosing disqeases such as cancer and heart conditions. AI also powers robotic surgery systems like Da Vinci, which enable surgeons to perform minimally invasive procedures with enhanced precis[MASK]ion. In education, platforms like Duolingo and Coursera use AI algorithms to personalize learning experiences, adapting to students' skill levels and preferences.[SEP]\"}, {'score': 0.011815379373729229, 'token': 514, 'token_str': 'act', 'sequence': \"[CLS]In healthcare, AI tools like IBM Watson Health and DeepMind's AlphaFold assis[MASK]t doctors by predicting protein structures and diagnosing disacteases such as cancer and heart conditions. AI also powers robotic surgery systems like Da Vinci, which enable surgeons to perform minimally invasive procedures with enhanced precis[MASK]ion. In education, platforms like Duolingo and Coursera use AI algorithms to personalize learning experiences, adapting to students' skill levels and preferences.[SEP]\"}, {'score': 0.004480268806219101, 'token': 457, 'token_str': '’', 'sequence': \"[CLS]In healthcare, AI tools like IBM Watson Health and DeepMind's AlphaFold assis[MASK]t doctors by predicting protein structures and diagnosing dis’eases such as cancer and heart conditions. AI also powers robotic surgery systems like Da Vinci, which enable surgeons to perform minimally invasive procedures with enhanced precis[MASK]ion. In education, platforms like Duolingo and Coursera use AI algorithms to personalize learning experiences, adapting to students' skill levels and preferences.[SEP]\"}], [{'score': 0.12384230643510818, 'token': 292, 'token_str': 'et', 'sequence': \"[CLS]In healthcare, AI tools like IBM Watson Health and DeepMind's AlphaFold assis[MASK]t doctors by predicting protein structures and diagnosing dis[MASK]eases such as cancer and heart conditions. AI also powers robotic surgery systems like Da Vinci, which enable surgeons to perform minimally invasive procedures with enhanced precisetion. In education, platforms like Duolingo and Coursera use AI algorithms to personalize learning experiences, adapting to students' skill levels and preferences.[SEP]\"}, {'score': 0.11788008362054825, 'token': 382, 'token_str': 'ist', 'sequence': \"[CLS]In healthcare, AI tools like IBM Watson Health and DeepMind's AlphaFold assis[MASK]t doctors by predicting protein structures and diagnosing dis[MASK]eases such as cancer and heart conditions. AI also powers robotic surgery systems like Da Vinci, which enable surgeons to perform minimally invasive procedures with enhanced precisistion. In education, platforms like Duolingo and Coursera use AI algorithms to personalize learning experiences, adapting to students' skill levels and preferences.[SEP]\"}, {'score': 0.06425859034061432, 'token': 246, 'token_str': ' t', 'sequence': \"[CLS]In healthcare, AI tools like IBM Watson Health and DeepMind's AlphaFold assis[MASK]t doctors by predicting protein structures and diagnosing dis[MASK]eases such as cancer and heart conditions. AI also powers robotic surgery systems like Da Vinci, which enable surgeons to perform minimally invasive procedures with enhanced precis tion. In education, platforms like Duolingo and Coursera use AI algorithms to personalize learning experiences, adapting to students' skill levels and preferences.[SEP]\"}, {'score': 0.06336101144552231, 'token': 296, 'token_str': 'st', 'sequence': \"[CLS]In healthcare, AI tools like IBM Watson Health and DeepMind's AlphaFold assis[MASK]t doctors by predicting protein structures and diagnosing dis[MASK]eases such as cancer and heart conditions. AI also powers robotic surgery systems like Da Vinci, which enable surgeons to perform minimally invasive procedures with enhanced precisstion. In education, platforms like Duolingo and Coursera use AI algorithms to personalize learning experiences, adapting to students' skill levels and preferences.[SEP]\"}, {'score': 0.05894310399889946, 'token': 14, 'token_str': '-', 'sequence': \"[CLS]In healthcare, AI tools like IBM Watson Health and DeepMind's AlphaFold assis[MASK]t doctors by predicting protein structures and diagnosing dis[MASK]eases such as cancer and heart conditions. AI also powers robotic surgery systems like Da Vinci, which enable surgeons to perform minimally invasive procedures with enhanced precis-ion. In education, platforms like Duolingo and Coursera use AI algorithms to personalize learning experiences, adapting to students' skill levels and preferences.[SEP]\"}]]\n",
            "Debug: Predictions for 'Virtual tutors powered by AI, such as Squirrel AI in China, offer real-time feedback to help students master complex topics. AI's role in finance is [MASK] equally transformative, where algorithms detect fraudulent transactions in millis [MASK]econds, optimize trading strategies, and analyze market trends. Robo-advis [MASK]ors like Betterment and Wealthfront provide automated financial advice, helping users invest more effectively.': [[{'score': 0.18893544375896454, 'token': 2761, 'token_str': ' almost', 'sequence': \"[CLS]Virtual tutors powered by AI, such as Squirrel AI in China, offer real-time feedback to help students master complex topics. AI's role in finance is almost equally transformative, where algorithms detect fraudulent transactions in millis[MASK]econds, optimize trading strategies, and analyze market trends. Robo-advis[MASK]ors like Betterment and Wealthfront provide automated financial advice, helping users invest more effectively.[SEP]\"}, {'score': 0.10118677467107773, 'token': 4931, 'token_str': ' perhaps', 'sequence': \"[CLS]Virtual tutors powered by AI, such as Squirrel AI in China, offer real-time feedback to help students master complex topics. AI's role in finance is perhaps equally transformative, where algorithms detect fraudulent transactions in millis[MASK]econds, optimize trading strategies, and analyze market trends. Robo-advis[MASK]ors like Betterment and Wealthfront provide automated financial advice, helping users invest more effectively.[SEP]\"}, {'score': 0.09863674640655518, 'token': 7826, 'token_str': ' potentially', 'sequence': \"[CLS]Virtual tutors powered by AI, such as Squirrel AI in China, offer real-time feedback to help students master complex topics. AI's role in finance is potentially equally transformative, where algorithms detect fraudulent transactions in millis[MASK]econds, optimize trading strategies, and analyze market trends. Robo-advis[MASK]ors like Betterment and Wealthfront provide automated financial advice, helping users invest more effectively.[SEP]\"}, {'score': 0.09656818956136703, 'token': 18597, 'token_str': ' proving', 'sequence': \"[CLS]Virtual tutors powered by AI, such as Squirrel AI in China, offer real-time feedback to help students master complex topics. AI's role in finance is proving equally transformative, where algorithms detect fraudulent transactions in millis[MASK]econds, optimize trading strategies, and analyze market trends. Robo-advis[MASK]ors like Betterment and Wealthfront provide automated financial advice, helping users invest more effectively.[SEP]\"}, {'score': 0.08096400648355484, 'token': 2223, 'token_str': ' often', 'sequence': \"[CLS]Virtual tutors powered by AI, such as Squirrel AI in China, offer real-time feedback to help students master complex topics. AI's role in finance is often equally transformative, where algorithms detect fraudulent transactions in millis[MASK]econds, optimize trading strategies, and analyze market trends. Robo-advis[MASK]ors like Betterment and Wealthfront provide automated financial advice, helping users invest more effectively.[SEP]\"}], [{'score': 0.6449482440948486, 'token': 1154, 'token_str': 'cent', 'sequence': \"[CLS]Virtual tutors powered by AI, such as Squirrel AI in China, offer real-time feedback to help students master complex topics. AI's role in finance is[MASK] equally transformative, where algorithms detect fraudulent transactions in milliscenteconds, optimize trading strategies, and analyze market trends. Robo-advis[MASK]ors like Betterment and Wealthfront provide automated financial advice, helping users invest more effectively.[SEP]\"}, {'score': 0.08305465430021286, 'token': 9623, 'token_str': 'iem', 'sequence': \"[CLS]Virtual tutors powered by AI, such as Squirrel AI in China, offer real-time feedback to help students master complex topics. AI's role in finance is[MASK] equally transformative, where algorithms detect fraudulent transactions in millisiemeconds, optimize trading strategies, and analyze market trends. Robo-advis[MASK]ors like Betterment and Wealthfront provide automated financial advice, helping users invest more effectively.[SEP]\"}, {'score': 0.05473706126213074, 'token': 2755, 'token_str': 'omet', 'sequence': \"[CLS]Virtual tutors powered by AI, such as Squirrel AI in China, offer real-time feedback to help students master complex topics. AI's role in finance is[MASK] equally transformative, where algorithms detect fraudulent transactions in millisometeconds, optimize trading strategies, and analyze market trends. Robo-advis[MASK]ors like Betterment and Wealthfront provide automated financial advice, helping users invest more effectively.[SEP]\"}, {'score': 0.045766815543174744, 'token': 14, 'token_str': '-', 'sequence': \"[CLS]Virtual tutors powered by AI, such as Squirrel AI in China, offer real-time feedback to help students master complex topics. AI's role in finance is[MASK] equally transformative, where algorithms detect fraudulent transactions in millis-econds, optimize trading strategies, and analyze market trends. Robo-advis[MASK]ors like Betterment and Wealthfront provide automated financial advice, helping users invest more effectively.[SEP]\"}, {'score': 0.04029542952775955, 'token': 358, 'token_str': 'em', 'sequence': \"[CLS]Virtual tutors powered by AI, such as Squirrel AI in China, offer real-time feedback to help students master complex topics. AI's role in finance is[MASK] equally transformative, where algorithms detect fraudulent transactions in millisemeconds, optimize trading strategies, and analyze market trends. Robo-advis[MASK]ors like Betterment and Wealthfront provide automated financial advice, helping users invest more effectively.[SEP]\"}], [{'score': 0.17490367591381073, 'token': 292, 'token_str': 'et', 'sequence': \"[CLS]Virtual tutors powered by AI, such as Squirrel AI in China, offer real-time feedback to help students master complex topics. AI's role in finance is[MASK] equally transformative, where algorithms detect fraudulent transactions in millis[MASK]econds, optimize trading strategies, and analyze market trends. Robo-advisetors like Betterment and Wealthfront provide automated financial advice, helping users invest more effectively.[SEP]\"}, {'score': 0.0817013680934906, 'token': 80, 'token_str': 'o', 'sequence': \"[CLS]Virtual tutors powered by AI, such as Squirrel AI in China, offer real-time feedback to help students master complex topics. AI's role in finance is[MASK] equally transformative, where algorithms detect fraudulent transactions in millis[MASK]econds, optimize trading strategies, and analyze market trends. Robo-advisoors like Betterment and Wealthfront provide automated financial advice, helping users invest more effectively.[SEP]\"}, {'score': 0.037963151931762695, 'token': 324, 'token_str': 'ad', 'sequence': \"[CLS]Virtual tutors powered by AI, such as Squirrel AI in China, offer real-time feedback to help students master complex topics. AI's role in finance is[MASK] equally transformative, where algorithms detect fraudulent transactions in millis[MASK]econds, optimize trading strategies, and analyze market trends. Robo-advisadors like Betterment and Wealthfront provide automated financial advice, helping users invest more effectively.[SEP]\"}, {'score': 0.032266199588775635, 'token': 423, 'token_str': 'end', 'sequence': \"[CLS]Virtual tutors powered by AI, such as Squirrel AI in China, offer real-time feedback to help students master complex topics. AI's role in finance is[MASK] equally transformative, where algorithms detect fraudulent transactions in millis[MASK]econds, optimize trading strategies, and analyze market trends. Robo-advisendors like Betterment and Wealthfront provide automated financial advice, helping users invest more effectively.[SEP]\"}, {'score': 0.03125639259815216, 'token': 398, 'token_str': 'ers', 'sequence': \"[CLS]Virtual tutors powered by AI, such as Squirrel AI in China, offer real-time feedback to help students master complex topics. AI's role in finance is[MASK] equally transformative, where algorithms detect fraudulent transactions in millis[MASK]econds, optimize trading strategies, and analyze market trends. Robo-advisersors like Betterment and Wealthfront provide automated financial advice, helping users invest more effectively.[SEP]\"}]]\n",
            "Debug: Predictions for 'In the entertainment industry, AI drives content recommendation systems for platforms like Netflix, YouTube, and Spotify, ensuring users dis [MASK]cover movies, videos, and music tailored to their tastes. Tools like OpenAI's DALL·E and ChatGPT generate creative content, including realis [MASK]tic images, art, and human-like conversations. Manufacturing has also been revolutionized by AI, with smart robots on assembly lines increasing productivity and reducing errors.': [[{'score': 0.6123525500297546, 'token': 14, 'token_str': '-', 'sequence': \"[CLS]In the entertainment industry, AI drives content recommendation systems for platforms like Netflix, YouTube, and Spotify, ensuring users dis-cover movies, videos, and music tailored to their tastes. Tools like OpenAI's DALL·E and ChatGPT generate creative content, including realis[MASK]tic images, art, and human-like conversations. Manufacturing has also been revolutionized by AI, with smart robots on assembly lines increasing productivity and reducing errors.[SEP]\"}, {'score': 0.15573415160179138, 'token': 6319, 'token_str': '\\xad', 'sequence': \"[CLS]In the entertainment industry, AI drives content recommendation systems for platforms like Netflix, YouTube, and Spotify, ensuring users dis\\xadcover movies, videos, and music tailored to their tastes. Tools like OpenAI's DALL·E and ChatGPT generate creative content, including realis[MASK]tic images, art, and human-like conversations. Manufacturing has also been revolutionized by AI, with smart robots on assembly lines increasing productivity and reducing errors.[SEP]\"}, {'score': 0.011907612904906273, 'token': 187, 'token_str': '\\n', 'sequence': \"[CLS]In the entertainment industry, AI drives content recommendation systems for platforms like Netflix, YouTube, and Spotify, ensuring users dis\\ncover movies, videos, and music tailored to their tastes. Tools like OpenAI's DALL·E and ChatGPT generate creative content, including realis[MASK]tic images, art, and human-like conversations. Manufacturing has also been revolutionized by AI, with smart robots on assembly lines increasing productivity and reducing errors.[SEP]\"}, {'score': 0.010824472643435001, 'token': 15, 'token_str': '.', 'sequence': \"[CLS]In the entertainment industry, AI drives content recommendation systems for platforms like Netflix, YouTube, and Spotify, ensuring users dis.cover movies, videos, and music tailored to their tastes. Tools like OpenAI's DALL·E and ChatGPT generate creative content, including realis[MASK]tic images, art, and human-like conversations. Manufacturing has also been revolutionized by AI, with smart robots on assembly lines increasing productivity and reducing errors.[SEP]\"}, {'score': 0.010263388976454735, 'token': 1051, 'token_str': '...', 'sequence': \"[CLS]In the entertainment industry, AI drives content recommendation systems for platforms like Netflix, YouTube, and Spotify, ensuring users dis...cover movies, videos, and music tailored to their tastes. Tools like OpenAI's DALL·E and ChatGPT generate creative content, including realis[MASK]tic images, art, and human-like conversations. Manufacturing has also been revolutionized by AI, with smart robots on assembly lines increasing productivity and reducing errors.[SEP]\"}], [{'score': 0.3517847955226898, 'token': 14, 'token_str': '-', 'sequence': \"[CLS]In the entertainment industry, AI drives content recommendation systems for platforms like Netflix, YouTube, and Spotify, ensuring users dis[MASK]cover movies, videos, and music tailored to their tastes. Tools like OpenAI's DALL·E and ChatGPT generate creative content, including realis-tic images, art, and human-like conversations. Manufacturing has also been revolutionized by AI, with smart robots on assembly lines increasing productivity and reducing errors.[SEP]\"}, {'score': 0.2133733481168747, 'token': 6319, 'token_str': '\\xad', 'sequence': \"[CLS]In the entertainment industry, AI drives content recommendation systems for platforms like Netflix, YouTube, and Spotify, ensuring users dis[MASK]cover movies, videos, and music tailored to their tastes. Tools like OpenAI's DALL·E and ChatGPT generate creative content, including realis\\xadtic images, art, and human-like conversations. Manufacturing has also been revolutionized by AI, with smart robots on assembly lines increasing productivity and reducing errors.[SEP]\"}, {'score': 0.03678632155060768, 'token': 6256, 'token_str': '·', 'sequence': \"[CLS]In the entertainment industry, AI drives content recommendation systems for platforms like Netflix, YouTube, and Spotify, ensuring users dis[MASK]cover movies, videos, and music tailored to their tastes. Tools like OpenAI's DALL·E and ChatGPT generate creative content, including realis·tic images, art, and human-like conversations. Manufacturing has also been revolutionized by AI, with smart robots on assembly lines increasing productivity and reducing errors.[SEP]\"}, {'score': 0.022321736440062523, 'token': 187, 'token_str': '\\n', 'sequence': \"[CLS]In the entertainment industry, AI drives content recommendation systems for platforms like Netflix, YouTube, and Spotify, ensuring users dis[MASK]cover movies, videos, and music tailored to their tastes. Tools like OpenAI's DALL·E and ChatGPT generate creative content, including realis\\ntic images, art, and human-like conversations. Manufacturing has also been revolutionized by AI, with smart robots on assembly lines increasing productivity and reducing errors.[SEP]\"}, {'score': 0.021551938727498055, 'token': 262, 'token_str': 'it', 'sequence': \"[CLS]In the entertainment industry, AI drives content recommendation systems for platforms like Netflix, YouTube, and Spotify, ensuring users dis[MASK]cover movies, videos, and music tailored to their tastes. Tools like OpenAI's DALL·E and ChatGPT generate creative content, including realisittic images, art, and human-like conversations. Manufacturing has also been revolutionized by AI, with smart robots on assembly lines increasing productivity and reducing errors.[SEP]\"}]]\n",
            "Debug: Predictions for 'Companies like Siemens and GE employ predictive maintenance systems powered by AI to monitor equipment health and prevent breakdowns. In energy, AI optimizes power grids by forecasting demand and managing energy dis [MASK]tribution efficiently. Wind and solar farms use AI to predict weather patterns and maximize renewable energy output.': [{'score': 0.5067422389984131, 'token': 14, 'token_str': '-', 'sequence': 'Companies like Siemens and GE employ predictive maintenance systems powered by AI to monitor equipment health and prevent breakdowns. In energy, AI optimizes power grids by forecasting demand and managing energy dis-tribution efficiently. Wind and solar farms use AI to predict weather patterns and maximize renewable energy output.'}, {'score': 0.391325443983078, 'token': 6319, 'token_str': '\\xad', 'sequence': 'Companies like Siemens and GE employ predictive maintenance systems powered by AI to monitor equipment health and prevent breakdowns. In energy, AI optimizes power grids by forecasting demand and managing energy dis\\xadtribution efficiently. Wind and solar farms use AI to predict weather patterns and maximize renewable energy output.'}, {'score': 0.02741960436105728, 'token': 457, 'token_str': '’', 'sequence': 'Companies like Siemens and GE employ predictive maintenance systems powered by AI to monitor equipment health and prevent breakdowns. In energy, AI optimizes power grids by forecasting demand and managing energy dis’tribution efficiently. Wind and solar farms use AI to predict weather patterns and maximize renewable energy output.'}, {'score': 0.01372799463570118, 'token': 23215, 'token_str': '¬', 'sequence': 'Companies like Siemens and GE employ predictive maintenance systems powered by AI to monitor equipment health and prevent breakdowns. In energy, AI optimizes power grids by forecasting demand and managing energy dis¬tribution efficiently. Wind and solar farms use AI to predict weather patterns and maximize renewable energy output.'}, {'score': 0.012021917849779129, 'token': 187, 'token_str': '\\n', 'sequence': 'Companies like Siemens and GE employ predictive maintenance systems powered by AI to monitor equipment health and prevent breakdowns. In energy, AI optimizes power grids by forecasting demand and managing energy dis\\ntribution efficiently. Wind and solar farms use AI to predict weather patterns and maximize renewable energy output.'}]\n",
            "Debug: Predictions for 'AI's impact on logis [MASK]tics is [MASK] evident in companies like Amazon and FedEx, where algorithms optimize delivery routes, track shipments in real-time, and streamline warehouse operations. Drone delivery systems powered by AI, such as those developed by Zipline, are becoming increasingly common in remote areas. Lastly, in gaming, AI has demonstrated superhuman capabilities with systems like DeepMind's AlphaGo and OpenAI Five, which outperform human players in games like Go, Dota 2, and Chess.': [[{'score': 0.20320741832256317, 'token': 10285, 'token_str': 'ynthe', 'sequence': \"[CLS]AI's impact on logisynthetics is[MASK] evident in companies like Amazon and FedEx, where algorithms optimize delivery routes, track shipments in real-time, and streamline warehouse operations. Drone delivery systems powered by AI, such as those developed by Zipline, are becoming increasingly common in remote areas. Lastly, in gaming, AI has demonstrated superhuman capabilities with systems like DeepMind's AlphaGo and OpenAI Five, which outperform human players in games like Go, Dota 2, and Chess.[SEP]\"}, {'score': 0.084673672914505, 'token': 14, 'token_str': '-', 'sequence': \"[CLS]AI's impact on logis-tics is[MASK] evident in companies like Amazon and FedEx, where algorithms optimize delivery routes, track shipments in real-time, and streamline warehouse operations. Drone delivery systems powered by AI, such as those developed by Zipline, are becoming increasingly common in remote areas. Lastly, in gaming, AI has demonstrated superhuman capabilities with systems like DeepMind's AlphaGo and OpenAI Five, which outperform human players in games like Go, Dota 2, and Chess.[SEP]\"}, {'score': 0.08253311365842819, 'token': 951, 'token_str': 'cy', 'sequence': \"[CLS]AI's impact on logiscytics is[MASK] evident in companies like Amazon and FedEx, where algorithms optimize delivery routes, track shipments in real-time, and streamline warehouse operations. Drone delivery systems powered by AI, such as those developed by Zipline, are becoming increasingly common in remote areas. Lastly, in gaming, AI has demonstrated superhuman capabilities with systems like DeepMind's AlphaGo and OpenAI Five, which outperform human players in games like Go, Dota 2, and Chess.[SEP]\"}, {'score': 0.051924120634794235, 'token': 864, 'token_str': 'hen', 'sequence': \"[CLS]AI's impact on logishentics is[MASK] evident in companies like Amazon and FedEx, where algorithms optimize delivery routes, track shipments in real-time, and streamline warehouse operations. Drone delivery systems powered by AI, such as those developed by Zipline, are becoming increasingly common in remote areas. Lastly, in gaming, AI has demonstrated superhuman capabilities with systems like DeepMind's AlphaGo and OpenAI Five, which outperform human players in games like Go, Dota 2, and Chess.[SEP]\"}, {'score': 0.04809579998254776, 'token': 656, 'token_str': 'ys', 'sequence': \"[CLS]AI's impact on logisystics is[MASK] evident in companies like Amazon and FedEx, where algorithms optimize delivery routes, track shipments in real-time, and streamline warehouse operations. Drone delivery systems powered by AI, such as those developed by Zipline, are becoming increasingly common in remote areas. Lastly, in gaming, AI has demonstrated superhuman capabilities with systems like DeepMind's AlphaGo and OpenAI Five, which outperform human players in games like Go, Dota 2, and Chess.[SEP]\"}], [{'score': 0.14724643528461456, 'token': 2168, 'token_str': ' already', 'sequence': \"[CLS]AI's impact on logis[MASK]tics is already evident in companies like Amazon and FedEx, where algorithms optimize delivery routes, track shipments in real-time, and streamline warehouse operations. Drone delivery systems powered by AI, such as those developed by Zipline, are becoming increasingly common in remote areas. Lastly, in gaming, AI has demonstrated superhuman capabilities with systems like DeepMind's AlphaGo and OpenAI Five, which outperform human players in games like Go, Dota 2, and Chess.[SEP]\"}, {'score': 0.1454710066318512, 'token': 954, 'token_str': ' most', 'sequence': \"[CLS]AI's impact on logis[MASK]tics is most evident in companies like Amazon and FedEx, where algorithms optimize delivery routes, track shipments in real-time, and streamline warehouse operations. Drone delivery systems powered by AI, such as those developed by Zipline, are becoming increasingly common in remote areas. Lastly, in gaming, AI has demonstrated superhuman capabilities with systems like DeepMind's AlphaGo and OpenAI Five, which outperform human players in games like Go, Dota 2, and Chess.[SEP]\"}, {'score': 0.13896888494491577, 'token': 7552, 'token_str': ' becoming', 'sequence': \"[CLS]AI's impact on logis[MASK]tics is becoming evident in companies like Amazon and FedEx, where algorithms optimize delivery routes, track shipments in real-time, and streamline warehouse operations. Drone delivery systems powered by AI, such as those developed by Zipline, are becoming increasingly common in remote areas. Lastly, in gaming, AI has demonstrated superhuman capabilities with systems like DeepMind's AlphaGo and OpenAI Five, which outperform human players in games like Go, Dota 2, and Chess.[SEP]\"}, {'score': 0.10448627918958664, 'token': 3782, 'token_str': ' particularly', 'sequence': \"[CLS]AI's impact on logis[MASK]tics is particularly evident in companies like Amazon and FedEx, where algorithms optimize delivery routes, track shipments in real-time, and streamline warehouse operations. Drone delivery systems powered by AI, such as those developed by Zipline, are becoming increasingly common in remote areas. Lastly, in gaming, AI has demonstrated superhuman capabilities with systems like DeepMind's AlphaGo and OpenAI Five, which outperform human players in games like Go, Dota 2, and Chess.[SEP]\"}, {'score': 0.08085616677999496, 'token': 671, 'token_str': ' also', 'sequence': \"[CLS]AI's impact on logis[MASK]tics is also evident in companies like Amazon and FedEx, where algorithms optimize delivery routes, track shipments in real-time, and streamline warehouse operations. Drone delivery systems powered by AI, such as those developed by Zipline, are becoming increasingly common in remote areas. Lastly, in gaming, AI has demonstrated superhuman capabilities with systems like DeepMind's AlphaGo and OpenAI Five, which outperform human players in games like Go, Dota 2, and Chess.[SEP]\"}]]\n",
            "Extracted Entities (Sample): [(\"Artificial Intelligence (AI) has become a transformative force in the 21st century, reshaping industries, driving innovation, and improving daily life. In transportation, autonomous vehicles like Tesla's Autopilot and Waymo's self-driving cars leverage AI to navigate roads, avoid obstacles, and improve passenger safety. These systems integrate machine learning with sensor data from LiDAR, cameras, and GPS for precision driving.\", ['st']), (\"In healthcare, AI tools like IBM Watson Health and DeepMind's AlphaFold assist doctors by predicting protein structures and diagnosing diseases such as cancer and heart conditions. AI also powers robotic surgery systems like Da Vinci, which enable surgeons to perform minimally invasive procedures with enhanced precision. In education, platforms like Duolingo and Coursera use AI algorithms to personalize learning experiences, adapting to students' skill levels and preferences.\", ['-']), (\"Virtual tutors powered by AI, such as Squirrel AI in China, offer real-time feedback to help students master complex topics. AI's role in finance is equally transformative, where algorithms detect fraudulent transactions in milliseconds, optimize trading strategies, and analyze market trends. Robo-advisors like Betterment and Wealthfront provide automated financial advice, helping users invest more effectively.\", ['cent']), (\"In the entertainment industry, AI drives content recommendation systems for platforms like Netflix, YouTube, and Spotify, ensuring users discover movies, videos, and music tailored to their tastes. Tools like OpenAI's DALL·E and ChatGPT generate creative content, including realistic images, art, and human-like conversations. Manufacturing has also been revolutionized by AI, with smart robots on assembly lines increasing productivity and reducing errors.\", ['-', '-']), ('Companies like Siemens and GE employ predictive maintenance systems powered by AI to monitor equipment health and prevent breakdowns. In energy, AI optimizes power grids by forecasting demand and managing energy distribution efficiently. Wind and solar farms use AI to predict weather patterns and maximize renewable energy output.', ['-', '\\xad'])]\n",
            "Extracted Relationships (Sample): []\n"
          ]
        },
        {
          "output_type": "display_data",
          "data": {
            "text/plain": [
              "<Figure size 640x480 with 1 Axes>"
            ],
            "image/png": "[encoded data removed]"
          },
          "metadata": {}
        }
      ]
    }
  ]
}